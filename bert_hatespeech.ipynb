{
 "cells": [
  {
   "cell_type": "code",
   "execution_count": null,
   "metadata": {
    "execution": {
     "iopub.execute_input": "2024-04-24T10:14:34.782029Z",
     "iopub.status.busy": "2024-04-24T10:14:34.781639Z",
     "iopub.status.idle": "2024-04-24T10:14:35.970202Z",
     "shell.execute_reply": "2024-04-24T10:14:35.969386Z",
     "shell.execute_reply.started": "2024-04-24T10:14:34.781997Z"
    },
    "id": "JeBNYby7ACTH",
    "trusted": true
   },
   "outputs": [],
   "source": [
    "import numpy as np\n",
    "import pandas as pd\n",
    "import re\n",
    "from nltk.corpus import stopwords\n",
    "from nltk.tokenize import word_tokenize\n",
    "from nltk.stem import WordNetLemmatizer\n",
    "from nltk import pos_tag\n",
    "from wordcloud import WordCloud\n",
    "import string\n"
   ]
  },
  {
   "cell_type": "code",
   "execution_count": null,
   "metadata": {
    "execution": {
     "iopub.execute_input": "2024-04-24T10:14:35.972412Z",
     "iopub.status.busy": "2024-04-24T10:14:35.971945Z",
     "iopub.status.idle": "2024-04-24T10:14:39.691428Z",
     "shell.execute_reply": "2024-04-24T10:14:39.690387Z",
     "shell.execute_reply.started": "2024-04-24T10:14:35.972381Z"
    },
    "id": "SJny0ogyACTK",
    "trusted": true
   },
   "outputs": [],
   "source": [
    "import os\n",
    "import random\n",
    "import torch\n",
    "from torch import nn\n",
    "from torch.utils.data import DataLoader, Dataset\n",
    "from torch.optim import AdamW\n",
    "from transformers import BertTokenizer, BertModel, get_linear_schedule_with_warmup\n",
    "from sklearn.model_selection import train_test_split\n",
    "from sklearn.preprocessing import LabelEncoder\n",
    "from sklearn.metrics import accuracy_score, classification_report, confusion_matrix\n",
    "from typing import Union, List\n",
    "import pandas as pd\n",
    "import matplotlib.pyplot as plt\n",
    "import seaborn as sns"
   ]
  },
  {
   "cell_type": "code",
   "execution_count": null,
   "metadata": {
    "execution": {
     "iopub.execute_input": "2024-04-24T10:14:39.693193Z",
     "iopub.status.busy": "2024-04-24T10:14:39.692759Z",
     "iopub.status.idle": "2024-04-24T10:14:39.697214Z",
     "shell.execute_reply": "2024-04-24T10:14:39.696218Z",
     "shell.execute_reply.started": "2024-04-24T10:14:39.693166Z"
    },
    "id": "YDWCKiYOACTL",
    "trusted": true
   },
   "outputs": [],
   "source": [
    "# !pip install nltk -U"
   ]
  },
  {
   "cell_type": "code",
   "execution_count": null,
   "metadata": {
    "execution": {
     "iopub.execute_input": "2024-04-24T10:14:39.700484Z",
     "iopub.status.busy": "2024-04-24T10:14:39.700142Z",
     "iopub.status.idle": "2024-04-24T10:14:39.837956Z",
     "shell.execute_reply": "2024-04-24T10:14:39.837078Z",
     "shell.execute_reply.started": "2024-04-24T10:14:39.700458Z"
    },
    "id": "OK4bmL_PACTL",
    "outputId": "239dec1d-8580-46cd-93c4-e6843a6fabe2",
    "trusted": true
   },
   "outputs": [
    {
     "name": "stderr",
     "output_type": "stream",
     "text": [
      "[nltk_data] Downloading package punkt to /usr/share/nltk_data...\n",
      "[nltk_data]   Package punkt is already up-to-date!\n",
      "[nltk_data] Downloading package averaged_perceptron_tagger to\n",
      "[nltk_data]     /usr/share/nltk_data...\n",
      "[nltk_data]   Package averaged_perceptron_tagger is already up-to-\n",
      "[nltk_data]       date!\n",
      "[nltk_data] Downloading package wordnet to /usr/share/nltk_data...\n",
      "[nltk_data]   Package wordnet is already up-to-date!\n",
      "[nltk_data] Downloading package stopwords to /usr/share/nltk_data...\n",
      "[nltk_data]   Package stopwords is already up-to-date!\n"
     ]
    },
    {
     "data": {
      "text/plain": [
       "True"
      ]
     },
     "execution_count": 5,
     "metadata": {},
     "output_type": "execute_result"
    }
   ],
   "source": [
    "import nltk\n",
    "nltk.download('punkt')\n",
    "nltk.download('averaged_perceptron_tagger')\n",
    "nltk.download('wordnet')\n",
    "nltk.download('stopwords')"
   ]
  },
  {
   "cell_type": "code",
   "execution_count": null,
   "metadata": {
    "execution": {
     "iopub.execute_input": "2024-04-24T10:14:39.839327Z",
     "iopub.status.busy": "2024-04-24T10:14:39.839075Z",
     "iopub.status.idle": "2024-04-24T10:14:39.845957Z",
     "shell.execute_reply": "2024-04-24T10:14:39.845038Z",
     "shell.execute_reply.started": "2024-04-24T10:14:39.839306Z"
    },
    "id": "V9C7TGWrACTN",
    "outputId": "c3634089-822f-4903-927c-be000358e8cd",
    "trusted": true
   },
   "outputs": [
    {
     "name": "stderr",
     "output_type": "stream",
     "text": [
      "[nltk_data] Downloading package wordnet to /usr/share/nltk_data...\n",
      "[nltk_data]   Package wordnet is already up-to-date!\n"
     ]
    },
    {
     "data": {
      "text/plain": [
       "True"
      ]
     },
     "execution_count": 6,
     "metadata": {},
     "output_type": "execute_result"
    }
   ],
   "source": [
    "nltk.download('wordnet')"
   ]
  },
  {
   "cell_type": "code",
   "execution_count": null,
   "metadata": {
    "execution": {
     "iopub.execute_input": "2024-04-24T10:14:39.847606Z",
     "iopub.status.busy": "2024-04-24T10:14:39.847245Z",
     "iopub.status.idle": "2024-04-24T10:14:39.908129Z",
     "shell.execute_reply": "2024-04-24T10:14:39.907296Z",
     "shell.execute_reply.started": "2024-04-24T10:14:39.847574Z"
    },
    "id": "vG1mEkRgACTN",
    "trusted": true
   },
   "outputs": [],
   "source": [
    "tweet_data = pd.read_csv('labeled_data.csv')"
   ]
  },
  {
   "cell_type": "code",
   "execution_count": null,
   "metadata": {
    "execution": {
     "iopub.execute_input": "2024-04-24T10:14:39.909660Z",
     "iopub.status.busy": "2024-04-24T10:14:39.909324Z",
     "iopub.status.idle": "2024-04-24T10:14:39.917547Z",
     "shell.execute_reply": "2024-04-24T10:14:39.916509Z",
     "shell.execute_reply.started": "2024-04-24T10:14:39.909633Z"
    },
    "id": "IaWxegz3ACTO",
    "trusted": true
   },
   "outputs": [],
   "source": [
    "tweet_data['label'] = np.where((tweet_data['class'] == 0) | (tweet_data['class'] == 1), 0, 1)"
   ]
  },
  {
   "cell_type": "code",
   "execution_count": null,
   "metadata": {
    "execution": {
     "iopub.execute_input": "2024-04-24T10:14:39.919066Z",
     "iopub.status.busy": "2024-04-24T10:14:39.918720Z",
     "iopub.status.idle": "2024-04-24T10:14:39.938226Z",
     "shell.execute_reply": "2024-04-24T10:14:39.937335Z",
     "shell.execute_reply.started": "2024-04-24T10:14:39.919039Z"
    },
    "id": "Jh4wK_4xACTP",
    "outputId": "05b8f768-82de-421a-d583-250173b8cbe5",
    "trusted": true
   },
   "outputs": [
    {
     "data": {
      "text/html": [
       "<div>\n",
       "<style scoped>\n",
       "    .dataframe tbody tr th:only-of-type {\n",
       "        vertical-align: middle;\n",
       "    }\n",
       "\n",
       "    .dataframe tbody tr th {\n",
       "        vertical-align: top;\n",
       "    }\n",
       "\n",
       "    .dataframe thead th {\n",
       "        text-align: right;\n",
       "    }\n",
       "</style>\n",
       "<table border=\"1\" class=\"dataframe\">\n",
       "  <thead>\n",
       "    <tr style=\"text-align: right;\">\n",
       "      <th></th>\n",
       "      <th>Unnamed: 0</th>\n",
       "      <th>count</th>\n",
       "      <th>hate_speech</th>\n",
       "      <th>offensive_language</th>\n",
       "      <th>neither</th>\n",
       "      <th>class</th>\n",
       "      <th>tweet</th>\n",
       "      <th>label</th>\n",
       "    </tr>\n",
       "  </thead>\n",
       "  <tbody>\n",
       "    <tr>\n",
       "      <th>0</th>\n",
       "      <td>0</td>\n",
       "      <td>3</td>\n",
       "      <td>0</td>\n",
       "      <td>0</td>\n",
       "      <td>3</td>\n",
       "      <td>2</td>\n",
       "      <td>!!! RT @mayasolovely: As a woman you shouldn't...</td>\n",
       "      <td>1</td>\n",
       "    </tr>\n",
       "    <tr>\n",
       "      <th>1</th>\n",
       "      <td>1</td>\n",
       "      <td>3</td>\n",
       "      <td>0</td>\n",
       "      <td>3</td>\n",
       "      <td>0</td>\n",
       "      <td>1</td>\n",
       "      <td>!!!!! RT @mleew17: boy dats cold...tyga dwn ba...</td>\n",
       "      <td>0</td>\n",
       "    </tr>\n",
       "    <tr>\n",
       "      <th>2</th>\n",
       "      <td>2</td>\n",
       "      <td>3</td>\n",
       "      <td>0</td>\n",
       "      <td>3</td>\n",
       "      <td>0</td>\n",
       "      <td>1</td>\n",
       "      <td>!!!!!!! RT @UrKindOfBrand Dawg!!!! RT @80sbaby...</td>\n",
       "      <td>0</td>\n",
       "    </tr>\n",
       "    <tr>\n",
       "      <th>3</th>\n",
       "      <td>3</td>\n",
       "      <td>3</td>\n",
       "      <td>0</td>\n",
       "      <td>2</td>\n",
       "      <td>1</td>\n",
       "      <td>1</td>\n",
       "      <td>!!!!!!!!! RT @C_G_Anderson: @viva_based she lo...</td>\n",
       "      <td>0</td>\n",
       "    </tr>\n",
       "    <tr>\n",
       "      <th>4</th>\n",
       "      <td>4</td>\n",
       "      <td>6</td>\n",
       "      <td>0</td>\n",
       "      <td>6</td>\n",
       "      <td>0</td>\n",
       "      <td>1</td>\n",
       "      <td>!!!!!!!!!!!!! RT @ShenikaRoberts: The shit you...</td>\n",
       "      <td>0</td>\n",
       "    </tr>\n",
       "  </tbody>\n",
       "</table>\n",
       "</div>"
      ],
      "text/plain": [
       "   Unnamed: 0  count  hate_speech  offensive_language  neither  class  \\\n",
       "0           0      3            0                   0        3      2   \n",
       "1           1      3            0                   3        0      1   \n",
       "2           2      3            0                   3        0      1   \n",
       "3           3      3            0                   2        1      1   \n",
       "4           4      6            0                   6        0      1   \n",
       "\n",
       "                                               tweet  label  \n",
       "0  !!! RT @mayasolovely: As a woman you shouldn't...      1  \n",
       "1  !!!!! RT @mleew17: boy dats cold...tyga dwn ba...      0  \n",
       "2  !!!!!!! RT @UrKindOfBrand Dawg!!!! RT @80sbaby...      0  \n",
       "3  !!!!!!!!! RT @C_G_Anderson: @viva_based she lo...      0  \n",
       "4  !!!!!!!!!!!!! RT @ShenikaRoberts: The shit you...      0  "
      ]
     },
     "execution_count": 9,
     "metadata": {},
     "output_type": "execute_result"
    }
   ],
   "source": [
    "tweet_data.head()"
   ]
  },
  {
   "cell_type": "code",
   "execution_count": null,
   "metadata": {
    "execution": {
     "iopub.execute_input": "2024-04-24T10:14:39.939853Z",
     "iopub.status.busy": "2024-04-24T10:14:39.939604Z",
     "iopub.status.idle": "2024-04-24T10:14:39.947806Z",
     "shell.execute_reply": "2024-04-24T10:14:39.946904Z",
     "shell.execute_reply.started": "2024-04-24T10:14:39.939833Z"
    },
    "id": "UtnN686LACTP",
    "outputId": "58550c2c-5dfa-4ac5-e3d7-3043dae668a4",
    "trusted": true
   },
   "outputs": [
    {
     "data": {
      "text/plain": [
       "label\n",
       "0    20620\n",
       "1     4163\n",
       "Name: count, dtype: int64"
      ]
     },
     "execution_count": 10,
     "metadata": {},
     "output_type": "execute_result"
    }
   ],
   "source": [
    "tweet_data['label'].value_counts()"
   ]
  },
  {
   "cell_type": "code",
   "execution_count": null,
   "metadata": {
    "execution": {
     "iopub.execute_input": "2024-04-24T10:14:39.951920Z",
     "iopub.status.busy": "2024-04-24T10:14:39.951650Z",
     "iopub.status.idle": "2024-04-24T10:14:39.960626Z",
     "shell.execute_reply": "2024-04-24T10:14:39.959735Z",
     "shell.execute_reply.started": "2024-04-24T10:14:39.951898Z"
    },
    "id": "56Dwdvz5ACTP",
    "trusted": true
   },
   "outputs": [],
   "source": [
    "def preprocess_text(text):\n",
    "    # Remove URLs\n",
    "    text = re.sub(r'http\\S+', '', text)\n",
    "    # Remove special characters, numbers, and punctuations (except for hashtags and @mentions)\n",
    "    text = re.sub(\"[^a-zA-Z#@]\", \" \", text)\n",
    "    # Convert to lowercase\n",
    "    text = text.lower()\n",
    "    # Tokenize text\n",
    "    words = word_tokenize(text)\n",
    "\n",
    "    # Remove stopwords\n",
    "    stop_words = set(stopwords.words('english'))\n",
    "    words = [word for word in words if word not in stop_words]\n",
    "    exclude =string.punctuation\n",
    "    words = [word for word in words if word not in exclude]\n",
    "\n",
    "    # Lemmatize words based on POS tags\n",
    "    lemmatizer = WordNetLemmatizer()\n",
    "    tagged_words = pos_tag(words)\n",
    "    lemmatized_words = []\n",
    "    for word, tag in tagged_words:\n",
    "        if tag.startswith('NN'):  # Noun\n",
    "            pos = 'n'\n",
    "        elif tag.startswith('VB'):  # Verb\n",
    "            pos = 'v'\n",
    "        elif tag.startswith('JJ'):  # Adjective\n",
    "            pos = 'a'\n",
    "        else:\n",
    "            pos = 'n'  # Default to noun\n",
    "        lemmatized_words.append(lemmatizer.lemmatize(word, pos))\n",
    "    text = ' '.join(lemmatized_words)\n",
    "    return text\n",
    "\n"
   ]
  },
  {
   "cell_type": "code",
   "execution_count": null,
   "metadata": {
    "execution": {
     "iopub.execute_input": "2024-04-24T10:14:39.962172Z",
     "iopub.status.busy": "2024-04-24T10:14:39.961835Z",
     "iopub.status.idle": "2024-04-24T10:14:39.975585Z",
     "shell.execute_reply": "2024-04-24T10:14:39.974749Z",
     "shell.execute_reply.started": "2024-04-24T10:14:39.962140Z"
    },
    "id": "zmnvgWGdACTQ",
    "trusted": true
   },
   "outputs": [],
   "source": [
    "# !pip install --upgrade nltk\n"
   ]
  },
  {
   "cell_type": "code",
   "execution_count": null,
   "metadata": {
    "execution": {
     "iopub.execute_input": "2024-04-24T10:14:39.977088Z",
     "iopub.status.busy": "2024-04-24T10:14:39.976807Z",
     "iopub.status.idle": "2024-04-24T10:14:39.989748Z",
     "shell.execute_reply": "2024-04-24T10:14:39.988821Z",
     "shell.execute_reply.started": "2024-04-24T10:14:39.977065Z"
    },
    "id": "YjXaooLBACTQ",
    "outputId": "8cf53ced-08b9-4a39-be29-c8643083a0db",
    "trusted": true
   },
   "outputs": [
    {
     "name": "stderr",
     "output_type": "stream",
     "text": [
      "[nltk_data] Downloading package wordnet to /usr/share/nltk_data...\n",
      "[nltk_data]   Package wordnet is already up-to-date!\n"
     ]
    },
    {
     "data": {
      "text/plain": [
       "True"
      ]
     },
     "execution_count": 13,
     "metadata": {},
     "output_type": "execute_result"
    }
   ],
   "source": [
    "nltk.download('wordnet')"
   ]
  },
  {
   "cell_type": "code",
   "execution_count": null,
   "metadata": {
    "execution": {
     "iopub.execute_input": "2024-04-24T10:14:39.991313Z",
     "iopub.status.busy": "2024-04-24T10:14:39.990937Z",
     "iopub.status.idle": "2024-04-24T10:15:16.186708Z",
     "shell.execute_reply": "2024-04-24T10:15:16.185732Z",
     "shell.execute_reply.started": "2024-04-24T10:14:39.991283Z"
    },
    "id": "pUesn0iJACTQ",
    "trusted": true
   },
   "outputs": [],
   "source": [
    "tweet_data['tweet']= tweet_data['tweet'].apply(preprocess_text)"
   ]
  },
  {
   "cell_type": "code",
   "execution_count": null,
   "metadata": {
    "execution": {
     "iopub.execute_input": "2024-04-24T10:15:16.188215Z",
     "iopub.status.busy": "2024-04-24T10:15:16.187901Z",
     "iopub.status.idle": "2024-04-24T10:15:16.207627Z",
     "shell.execute_reply": "2024-04-24T10:15:16.206598Z",
     "shell.execute_reply.started": "2024-04-24T10:15:16.188188Z"
    },
    "id": "qxKtHjxZACTR",
    "outputId": "009fa07f-1483-4ead-a5ff-d87163508bfc",
    "trusted": true
   },
   "outputs": [
    {
     "data": {
      "text/html": [
       "<div>\n",
       "<style scoped>\n",
       "    .dataframe tbody tr th:only-of-type {\n",
       "        vertical-align: middle;\n",
       "    }\n",
       "\n",
       "    .dataframe tbody tr th {\n",
       "        vertical-align: top;\n",
       "    }\n",
       "\n",
       "    .dataframe thead th {\n",
       "        text-align: right;\n",
       "    }\n",
       "</style>\n",
       "<table border=\"1\" class=\"dataframe\">\n",
       "  <thead>\n",
       "    <tr style=\"text-align: right;\">\n",
       "      <th></th>\n",
       "      <th>Unnamed: 0</th>\n",
       "      <th>count</th>\n",
       "      <th>hate_speech</th>\n",
       "      <th>offensive_language</th>\n",
       "      <th>neither</th>\n",
       "      <th>class</th>\n",
       "      <th>tweet</th>\n",
       "      <th>label</th>\n",
       "    </tr>\n",
       "  </thead>\n",
       "  <tbody>\n",
       "    <tr>\n",
       "      <th>0</th>\n",
       "      <td>0</td>\n",
       "      <td>3</td>\n",
       "      <td>0</td>\n",
       "      <td>0</td>\n",
       "      <td>3</td>\n",
       "      <td>2</td>\n",
       "      <td>rt mayasolovely woman complain clean house amp...</td>\n",
       "      <td>1</td>\n",
       "    </tr>\n",
       "    <tr>\n",
       "      <th>1</th>\n",
       "      <td>1</td>\n",
       "      <td>3</td>\n",
       "      <td>0</td>\n",
       "      <td>3</td>\n",
       "      <td>0</td>\n",
       "      <td>1</td>\n",
       "      <td>rt mleew boy dat cold tyga dwn bad cuffin dat ...</td>\n",
       "      <td>0</td>\n",
       "    </tr>\n",
       "    <tr>\n",
       "      <th>2</th>\n",
       "      <td>2</td>\n",
       "      <td>3</td>\n",
       "      <td>0</td>\n",
       "      <td>3</td>\n",
       "      <td>0</td>\n",
       "      <td>1</td>\n",
       "      <td>rt urkindofbrand dawg rt sbaby life ever fuck ...</td>\n",
       "      <td>0</td>\n",
       "    </tr>\n",
       "    <tr>\n",
       "      <th>3</th>\n",
       "      <td>3</td>\n",
       "      <td>3</td>\n",
       "      <td>0</td>\n",
       "      <td>2</td>\n",
       "      <td>1</td>\n",
       "      <td>1</td>\n",
       "      <td>rt c g anderson viva base look like tranny</td>\n",
       "      <td>0</td>\n",
       "    </tr>\n",
       "    <tr>\n",
       "      <th>4</th>\n",
       "      <td>4</td>\n",
       "      <td>6</td>\n",
       "      <td>0</td>\n",
       "      <td>6</td>\n",
       "      <td>0</td>\n",
       "      <td>1</td>\n",
       "      <td>rt shenikaroberts shit hear might true might f...</td>\n",
       "      <td>0</td>\n",
       "    </tr>\n",
       "    <tr>\n",
       "      <th>...</th>\n",
       "      <td>...</td>\n",
       "      <td>...</td>\n",
       "      <td>...</td>\n",
       "      <td>...</td>\n",
       "      <td>...</td>\n",
       "      <td>...</td>\n",
       "      <td>...</td>\n",
       "      <td>...</td>\n",
       "    </tr>\n",
       "    <tr>\n",
       "      <th>24778</th>\n",
       "      <td>25291</td>\n",
       "      <td>3</td>\n",
       "      <td>0</td>\n",
       "      <td>2</td>\n",
       "      <td>1</td>\n",
       "      <td>1</td>\n",
       "      <td>muthaf lie lifeasking pearl corey emanuel righ...</td>\n",
       "      <td>0</td>\n",
       "    </tr>\n",
       "    <tr>\n",
       "      <th>24779</th>\n",
       "      <td>25292</td>\n",
       "      <td>3</td>\n",
       "      <td>0</td>\n",
       "      <td>1</td>\n",
       "      <td>2</td>\n",
       "      <td>2</td>\n",
       "      <td>go break wrong heart baby drive redneck crazy</td>\n",
       "      <td>1</td>\n",
       "    </tr>\n",
       "    <tr>\n",
       "      <th>24780</th>\n",
       "      <td>25294</td>\n",
       "      <td>3</td>\n",
       "      <td>0</td>\n",
       "      <td>3</td>\n",
       "      <td>0</td>\n",
       "      <td>1</td>\n",
       "      <td>young buck wan na eat dat nigguh like aint fuc...</td>\n",
       "      <td>0</td>\n",
       "    </tr>\n",
       "    <tr>\n",
       "      <th>24781</th>\n",
       "      <td>25295</td>\n",
       "      <td>6</td>\n",
       "      <td>0</td>\n",
       "      <td>6</td>\n",
       "      <td>0</td>\n",
       "      <td>1</td>\n",
       "      <td>youu get wild bitch tellin lie</td>\n",
       "      <td>0</td>\n",
       "    </tr>\n",
       "    <tr>\n",
       "      <th>24782</th>\n",
       "      <td>25296</td>\n",
       "      <td>3</td>\n",
       "      <td>0</td>\n",
       "      <td>0</td>\n",
       "      <td>3</td>\n",
       "      <td>2</td>\n",
       "      <td>ruffle ntac eileen dahlia beautiful color comb...</td>\n",
       "      <td>1</td>\n",
       "    </tr>\n",
       "  </tbody>\n",
       "</table>\n",
       "<p>24783 rows × 8 columns</p>\n",
       "</div>"
      ],
      "text/plain": [
       "       Unnamed: 0  count  hate_speech  offensive_language  neither  class  \\\n",
       "0               0      3            0                   0        3      2   \n",
       "1               1      3            0                   3        0      1   \n",
       "2               2      3            0                   3        0      1   \n",
       "3               3      3            0                   2        1      1   \n",
       "4               4      6            0                   6        0      1   \n",
       "...           ...    ...          ...                 ...      ...    ...   \n",
       "24778       25291      3            0                   2        1      1   \n",
       "24779       25292      3            0                   1        2      2   \n",
       "24780       25294      3            0                   3        0      1   \n",
       "24781       25295      6            0                   6        0      1   \n",
       "24782       25296      3            0                   0        3      2   \n",
       "\n",
       "                                                   tweet  label  \n",
       "0      rt mayasolovely woman complain clean house amp...      1  \n",
       "1      rt mleew boy dat cold tyga dwn bad cuffin dat ...      0  \n",
       "2      rt urkindofbrand dawg rt sbaby life ever fuck ...      0  \n",
       "3             rt c g anderson viva base look like tranny      0  \n",
       "4      rt shenikaroberts shit hear might true might f...      0  \n",
       "...                                                  ...    ...  \n",
       "24778  muthaf lie lifeasking pearl corey emanuel righ...      0  \n",
       "24779      go break wrong heart baby drive redneck crazy      1  \n",
       "24780  young buck wan na eat dat nigguh like aint fuc...      0  \n",
       "24781                     youu get wild bitch tellin lie      0  \n",
       "24782  ruffle ntac eileen dahlia beautiful color comb...      1  \n",
       "\n",
       "[24783 rows x 8 columns]"
      ]
     },
     "execution_count": 15,
     "metadata": {},
     "output_type": "execute_result"
    }
   ],
   "source": [
    "tweet_data"
   ]
  },
  {
   "cell_type": "code",
   "execution_count": null,
   "metadata": {
    "execution": {
     "iopub.execute_input": "2024-04-24T10:15:16.209641Z",
     "iopub.status.busy": "2024-04-24T10:15:16.209217Z",
     "iopub.status.idle": "2024-04-24T10:15:16.217516Z",
     "shell.execute_reply": "2024-04-24T10:15:16.216650Z",
     "shell.execute_reply.started": "2024-04-24T10:15:16.209608Z"
    },
    "id": "0_OFWJjGACTR",
    "trusted": true
   },
   "outputs": [],
   "source": [
    "# import emoji"
   ]
  },
  {
   "cell_type": "code",
   "execution_count": null,
   "metadata": {
    "execution": {
     "iopub.execute_input": "2024-04-24T10:15:16.218912Z",
     "iopub.status.busy": "2024-04-24T10:15:16.218622Z",
     "iopub.status.idle": "2024-04-24T10:15:16.230066Z",
     "shell.execute_reply": "2024-04-24T10:15:16.229124Z",
     "shell.execute_reply.started": "2024-04-24T10:15:16.218889Z"
    },
    "id": "12-oKFbQACTR",
    "trusted": true
   },
   "outputs": [],
   "source": [
    "# !pip install demoji"
   ]
  },
  {
   "cell_type": "code",
   "execution_count": null,
   "metadata": {
    "id": "waIs4gFpACTR"
   },
   "outputs": [],
   "source": []
  },
  {
   "cell_type": "code",
   "execution_count": null,
   "metadata": {
    "execution": {
     "iopub.execute_input": "2024-04-24T10:15:16.231575Z",
     "iopub.status.busy": "2024-04-24T10:15:16.231273Z",
     "iopub.status.idle": "2024-04-24T10:15:16.240545Z",
     "shell.execute_reply": "2024-04-24T10:15:16.239722Z",
     "shell.execute_reply.started": "2024-04-24T10:15:16.231552Z"
    },
    "id": "3WflBXiEACTR",
    "trusted": true
   },
   "outputs": [],
   "source": [
    "from transformers import BertTokenizer, BertModel\n",
    "import torch\n"
   ]
  },
  {
   "cell_type": "code",
   "execution_count": null,
   "metadata": {
    "execution": {
     "iopub.execute_input": "2024-04-24T10:15:16.241934Z",
     "iopub.status.busy": "2024-04-24T10:15:16.241670Z",
     "iopub.status.idle": "2024-04-24T10:15:16.280782Z",
     "shell.execute_reply": "2024-04-24T10:15:16.279985Z",
     "shell.execute_reply.started": "2024-04-24T10:15:16.241912Z"
    },
    "id": "kS5jRoGZACTR",
    "trusted": true
   },
   "outputs": [],
   "source": [
    "tweet_data['text_len'] = [len(text.split()) for text in tweet_data.tweet]"
   ]
  },
  {
   "cell_type": "code",
   "execution_count": null,
   "metadata": {
    "execution": {
     "iopub.execute_input": "2024-04-24T10:15:16.282400Z",
     "iopub.status.busy": "2024-04-24T10:15:16.281944Z",
     "iopub.status.idle": "2024-04-24T10:15:16.300960Z",
     "shell.execute_reply": "2024-04-24T10:15:16.300062Z",
     "shell.execute_reply.started": "2024-04-24T10:15:16.282366Z"
    },
    "id": "sqMysLdkACTR",
    "outputId": "2e9838fd-feb2-425f-d36f-1e07add56fa8",
    "trusted": true
   },
   "outputs": [
    {
     "data": {
      "text/html": [
       "<div>\n",
       "<style scoped>\n",
       "    .dataframe tbody tr th:only-of-type {\n",
       "        vertical-align: middle;\n",
       "    }\n",
       "\n",
       "    .dataframe tbody tr th {\n",
       "        vertical-align: top;\n",
       "    }\n",
       "\n",
       "    .dataframe thead th {\n",
       "        text-align: right;\n",
       "    }\n",
       "</style>\n",
       "<table border=\"1\" class=\"dataframe\">\n",
       "  <thead>\n",
       "    <tr style=\"text-align: right;\">\n",
       "      <th></th>\n",
       "      <th>Unnamed: 0</th>\n",
       "      <th>count</th>\n",
       "      <th>hate_speech</th>\n",
       "      <th>offensive_language</th>\n",
       "      <th>neither</th>\n",
       "      <th>class</th>\n",
       "      <th>tweet</th>\n",
       "      <th>label</th>\n",
       "      <th>text_len</th>\n",
       "    </tr>\n",
       "  </thead>\n",
       "  <tbody>\n",
       "    <tr>\n",
       "      <th>16602</th>\n",
       "      <td>16985</td>\n",
       "      <td>3</td>\n",
       "      <td>0</td>\n",
       "      <td>0</td>\n",
       "      <td>3</td>\n",
       "      <td>2</td>\n",
       "      <td>rt nandagorgeous rt like bmth adtr ptv ymas sw...</td>\n",
       "      <td>1</td>\n",
       "      <td>31</td>\n",
       "    </tr>\n",
       "    <tr>\n",
       "      <th>8030</th>\n",
       "      <td>8255</td>\n",
       "      <td>3</td>\n",
       "      <td>0</td>\n",
       "      <td>2</td>\n",
       "      <td>1</td>\n",
       "      <td>1</td>\n",
       "      <td>bij vraag wat naam van de engels de doods dach...</td>\n",
       "      <td>0</td>\n",
       "      <td>27</td>\n",
       "    </tr>\n",
       "    <tr>\n",
       "      <th>6749</th>\n",
       "      <td>6937</td>\n",
       "      <td>3</td>\n",
       "      <td>0</td>\n",
       "      <td>3</td>\n",
       "      <td>0</td>\n",
       "      <td>1</td>\n",
       "      <td>n tsteven whatever wall hackin pussy bich fuk ...</td>\n",
       "      <td>0</td>\n",
       "      <td>25</td>\n",
       "    </tr>\n",
       "    <tr>\n",
       "      <th>13522</th>\n",
       "      <td>13855</td>\n",
       "      <td>3</td>\n",
       "      <td>0</td>\n",
       "      <td>1</td>\n",
       "      <td>2</td>\n",
       "      <td>2</td>\n",
       "      <td>och hoe wonderbaarlijk dat jan het alweer meet...</td>\n",
       "      <td>1</td>\n",
       "      <td>25</td>\n",
       "    </tr>\n",
       "    <tr>\n",
       "      <th>15155</th>\n",
       "      <td>15513</td>\n",
       "      <td>3</td>\n",
       "      <td>0</td>\n",
       "      <td>1</td>\n",
       "      <td>2</td>\n",
       "      <td>2</td>\n",
       "      <td>rt faaz taakstraf herkenbaar hesje je eigen bu...</td>\n",
       "      <td>1</td>\n",
       "      <td>25</td>\n",
       "    </tr>\n",
       "    <tr>\n",
       "      <th>...</th>\n",
       "      <td>...</td>\n",
       "      <td>...</td>\n",
       "      <td>...</td>\n",
       "      <td>...</td>\n",
       "      <td>...</td>\n",
       "      <td>...</td>\n",
       "      <td>...</td>\n",
       "      <td>...</td>\n",
       "      <td>...</td>\n",
       "    </tr>\n",
       "    <tr>\n",
       "      <th>22536</th>\n",
       "      <td>23012</td>\n",
       "      <td>3</td>\n",
       "      <td>0</td>\n",
       "      <td>2</td>\n",
       "      <td>1</td>\n",
       "      <td>1</td>\n",
       "      <td>trash</td>\n",
       "      <td>0</td>\n",
       "      <td>1</td>\n",
       "    </tr>\n",
       "    <tr>\n",
       "      <th>22587</th>\n",
       "      <td>23063</td>\n",
       "      <td>3</td>\n",
       "      <td>3</td>\n",
       "      <td>0</td>\n",
       "      <td>0</td>\n",
       "      <td>0</td>\n",
       "      <td>fag</td>\n",
       "      <td>0</td>\n",
       "      <td>1</td>\n",
       "    </tr>\n",
       "    <tr>\n",
       "      <th>7537</th>\n",
       "      <td>7751</td>\n",
       "      <td>3</td>\n",
       "      <td>0</td>\n",
       "      <td>3</td>\n",
       "      <td>0</td>\n",
       "      <td>1</td>\n",
       "      <td>bitch</td>\n",
       "      <td>0</td>\n",
       "      <td>1</td>\n",
       "    </tr>\n",
       "    <tr>\n",
       "      <th>7538</th>\n",
       "      <td>7752</td>\n",
       "      <td>3</td>\n",
       "      <td>0</td>\n",
       "      <td>3</td>\n",
       "      <td>0</td>\n",
       "      <td>1</td>\n",
       "      <td>bitch</td>\n",
       "      <td>0</td>\n",
       "      <td>1</td>\n",
       "    </tr>\n",
       "    <tr>\n",
       "      <th>11428</th>\n",
       "      <td>11721</td>\n",
       "      <td>3</td>\n",
       "      <td>0</td>\n",
       "      <td>3</td>\n",
       "      <td>0</td>\n",
       "      <td>1</td>\n",
       "      <td>hoe</td>\n",
       "      <td>0</td>\n",
       "      <td>1</td>\n",
       "    </tr>\n",
       "  </tbody>\n",
       "</table>\n",
       "<p>24783 rows × 9 columns</p>\n",
       "</div>"
      ],
      "text/plain": [
       "       Unnamed: 0  count  hate_speech  offensive_language  neither  class  \\\n",
       "16602       16985      3            0                   0        3      2   \n",
       "8030         8255      3            0                   2        1      1   \n",
       "6749         6937      3            0                   3        0      1   \n",
       "13522       13855      3            0                   1        2      2   \n",
       "15155       15513      3            0                   1        2      2   \n",
       "...           ...    ...          ...                 ...      ...    ...   \n",
       "22536       23012      3            0                   2        1      1   \n",
       "22587       23063      3            3                   0        0      0   \n",
       "7537         7751      3            0                   3        0      1   \n",
       "7538         7752      3            0                   3        0      1   \n",
       "11428       11721      3            0                   3        0      1   \n",
       "\n",
       "                                                   tweet  label  text_len  \n",
       "16602  rt nandagorgeous rt like bmth adtr ptv ymas sw...      1        31  \n",
       "8030   bij vraag wat naam van de engels de doods dach...      0        27  \n",
       "6749   n tsteven whatever wall hackin pussy bich fuk ...      0        25  \n",
       "13522  och hoe wonderbaarlijk dat jan het alweer meet...      1        25  \n",
       "15155  rt faaz taakstraf herkenbaar hesje je eigen bu...      1        25  \n",
       "...                                                  ...    ...       ...  \n",
       "22536                                              trash      0         1  \n",
       "22587                                                fag      0         1  \n",
       "7537                                               bitch      0         1  \n",
       "7538                                               bitch      0         1  \n",
       "11428                                                hoe      0         1  \n",
       "\n",
       "[24783 rows x 9 columns]"
      ]
     },
     "execution_count": 20,
     "metadata": {},
     "output_type": "execute_result"
    }
   ],
   "source": [
    "tweet_data.sort_values(by=['text_len'], ascending=False)"
   ]
  },
  {
   "cell_type": "code",
   "execution_count": null,
   "metadata": {
    "execution": {
     "iopub.execute_input": "2024-04-24T10:15:16.302250Z",
     "iopub.status.busy": "2024-04-24T10:15:16.301981Z",
     "iopub.status.idle": "2024-04-24T10:15:16.813746Z",
     "shell.execute_reply": "2024-04-24T10:15:16.812769Z",
     "shell.execute_reply.started": "2024-04-24T10:15:16.302227Z"
    },
    "id": "1l4iMWDPACTS",
    "outputId": "e64aa0b3-cab7-4923-d682-23fa8003dad7",
    "trusted": true
   },
   "outputs": [
    {
     "data": {
      "image/png": "[encoded data removed]",
      "text/plain": [
       "<Figure size 2000x500 with 1 Axes>"
      ]
     },
     "metadata": {},
     "output_type": "display_data"
    }
   ],
   "source": [
    "plt.figure(figsize=(20,5))\n",
    "ax = sns.countplot(x='text_len', data=tweet_data[tweet_data['text_len']<=1000], palette='Blues_r')\n",
    "plt.title('Count of tweets vs length ', fontsize=20)\n",
    "plt.yticks([])\n",
    "ax.bar_label(ax.containers[0])\n",
    "plt.ylabel('count')\n",
    "plt.xlabel('')\n",
    "plt.show()"
   ]
  },
  {
   "cell_type": "code",
   "execution_count": null,
   "metadata": {
    "execution": {
     "iopub.execute_input": "2024-04-24T10:15:16.815284Z",
     "iopub.status.busy": "2024-04-24T10:15:16.814980Z",
     "iopub.status.idle": "2024-04-24T10:15:16.825521Z",
     "shell.execute_reply": "2024-04-24T10:15:16.824623Z",
     "shell.execute_reply.started": "2024-04-24T10:15:16.815257Z"
    },
    "id": "u89gWpMlACTS",
    "trusted": true
   },
   "outputs": [],
   "source": [
    "tweet_data = tweet_data[tweet_data['text_len'] < tweet_data['text_len'].quantile(0.995)]"
   ]
  },
  {
   "cell_type": "code",
   "execution_count": null,
   "metadata": {
    "execution": {
     "iopub.execute_input": "2024-04-24T10:15:16.827046Z",
     "iopub.status.busy": "2024-04-24T10:15:16.826749Z",
     "iopub.status.idle": "2024-04-24T10:15:16.834843Z",
     "shell.execute_reply": "2024-04-24T10:15:16.833755Z",
     "shell.execute_reply.started": "2024-04-24T10:15:16.827021Z"
    },
    "id": "PBD2ZSnuACTS",
    "outputId": "6288c2f2-f9a0-4e2a-e861-5683b63e3b9f",
    "trusted": true
   },
   "outputs": [
    {
     "data": {
      "text/plain": [
       "19"
      ]
     },
     "execution_count": 23,
     "metadata": {},
     "output_type": "execute_result"
    }
   ],
   "source": [
    "max_len = np.max(tweet_data['text_len'])\n",
    "max_len"
   ]
  },
  {
   "cell_type": "code",
   "execution_count": null,
   "metadata": {
    "execution": {
     "iopub.execute_input": "2024-04-24T10:15:16.836481Z",
     "iopub.status.busy": "2024-04-24T10:15:16.836132Z",
     "iopub.status.idle": "2024-04-24T10:15:16.843372Z",
     "shell.execute_reply": "2024-04-24T10:15:16.842534Z",
     "shell.execute_reply.started": "2024-04-24T10:15:16.836454Z"
    },
    "id": "qi6sM9wVACTS",
    "trusted": true
   },
   "outputs": [],
   "source": [
    "MAX_LEN =100"
   ]
  },
  {
   "cell_type": "code",
   "execution_count": null,
   "metadata": {
    "execution": {
     "iopub.execute_input": "2024-04-24T10:15:16.844744Z",
     "iopub.status.busy": "2024-04-24T10:15:16.844477Z",
     "iopub.status.idle": "2024-04-24T10:15:27.636958Z",
     "shell.execute_reply": "2024-04-24T10:15:27.636060Z",
     "shell.execute_reply.started": "2024-04-24T10:15:16.844721Z"
    },
    "id": "ztSnyfSSACTS",
    "outputId": "0ab848a5-305a-4aba-9d24-21e10b965a43",
    "trusted": true
   },
   "outputs": [
    {
     "name": "stderr",
     "output_type": "stream",
     "text": [
      "2024-04-24 10:15:18.817285: E external/local_xla/xla/stream_executor/cuda/cuda_dnn.cc:9261] Unable to register cuDNN factory: Attempting to register factory for plugin cuDNN when one has already been registered\n",
      "2024-04-24 10:15:18.817414: E external/local_xla/xla/stream_executor/cuda/cuda_fft.cc:607] Unable to register cuFFT factory: Attempting to register factory for plugin cuFFT when one has already been registered\n",
      "2024-04-24 10:15:18.979227: E external/local_xla/xla/stream_executor/cuda/cuda_blas.cc:1515] Unable to register cuBLAS factory: Attempting to register factory for plugin cuBLAS when one has already been registered\n"
     ]
    }
   ],
   "source": [
    "from keras.preprocessing.sequence import pad_sequences"
   ]
  },
  {
   "cell_type": "code",
   "execution_count": null,
   "metadata": {
    "execution": {
     "iopub.execute_input": "2024-04-24T10:15:27.638461Z",
     "iopub.status.busy": "2024-04-24T10:15:27.638126Z",
     "iopub.status.idle": "2024-04-24T10:15:27.643398Z",
     "shell.execute_reply": "2024-04-24T10:15:27.642271Z",
     "shell.execute_reply.started": "2024-04-24T10:15:27.638435Z"
    },
    "id": "1m6F1wA8ACTT",
    "trusted": true
   },
   "outputs": [],
   "source": [
    "X = tweet_data['tweet'].values\n",
    "y = tweet_data['label'].values"
   ]
  },
  {
   "cell_type": "code",
   "execution_count": null,
   "metadata": {
    "execution": {
     "iopub.execute_input": "2024-04-24T10:15:27.645387Z",
     "iopub.status.busy": "2024-04-24T10:15:27.644960Z",
     "iopub.status.idle": "2024-04-24T10:15:27.662727Z",
     "shell.execute_reply": "2024-04-24T10:15:27.661825Z",
     "shell.execute_reply.started": "2024-04-24T10:15:27.645328Z"
    },
    "id": "UzCq9oLfACTT",
    "trusted": true
   },
   "outputs": [],
   "source": [
    "class TextClassificationDataset(Dataset):\n",
    "\n",
    "    def __init__(self, texts, labels, tokenizer, max_length):\n",
    "        self.texts = texts\n",
    "        self.labels = labels\n",
    "        self.tokenizer = tokenizer\n",
    "        self.max_length = max_length\n",
    "\n",
    "    def __len__(self):\n",
    "        return len(self.texts)\n",
    "\n",
    "    def __getitem__(self, idx):\n",
    "        text = self.texts[idx]\n",
    "        label = self.labels[idx]\n",
    "        encoding = self.tokenizer(text, return_tensors='pt', max_length=self.max_length, padding='max_length', truncation=True)\n",
    "        return {\n",
    "            'input_ids': encoding['input_ids'].flatten(),\n",
    "            'attention_mask': encoding['attention_mask'].flatten(),\n",
    "            'label': torch.tensor(label)\n",
    "        }"
   ]
  },
  {
   "cell_type": "code",
   "execution_count": null,
   "metadata": {
    "execution": {
     "iopub.execute_input": "2024-04-24T10:15:27.664836Z",
     "iopub.status.busy": "2024-04-24T10:15:27.664125Z",
     "iopub.status.idle": "2024-04-24T10:15:27.675176Z",
     "shell.execute_reply": "2024-04-24T10:15:27.674205Z",
     "shell.execute_reply.started": "2024-04-24T10:15:27.664798Z"
    },
    "id": "VzODaEjBACTT",
    "trusted": true
   },
   "outputs": [],
   "source": [
    "class BERTClassifier(nn.Module):\n",
    "    def __init__(self, bert_model_name, num_classes):\n",
    "        super(BERTClassifier, self).__init__()\n",
    "        self.bert = BertModel.from_pretrained(bert_model_name)\n",
    "        self.dropout = nn.Dropout(0.1)\n",
    "        self.fc = nn.Linear(self.bert.config.hidden_size, num_classes)\n",
    "\n",
    "    def forward(self, input_ids, attention_mask):\n",
    "        outputs = self.bert(input_ids, attention_mask=attention_mask)\n",
    "        pooled_output = outputs.pooler_output\n",
    "        x = self.dropout(pooled_output)\n",
    "        logits = self.fc(x)\n",
    "        return logits"
   ]
  },
  {
   "cell_type": "code",
   "execution_count": null,
   "metadata": {
    "execution": {
     "iopub.execute_input": "2024-04-24T10:15:27.681762Z",
     "iopub.status.busy": "2024-04-24T10:15:27.681043Z",
     "iopub.status.idle": "2024-04-24T10:15:27.688962Z",
     "shell.execute_reply": "2024-04-24T10:15:27.688025Z",
     "shell.execute_reply.started": "2024-04-24T10:15:27.681734Z"
    },
    "id": "fp6kVVZ5ACTT",
    "trusted": true
   },
   "outputs": [],
   "source": [
    "from tqdm import tqdm\n",
    "\n",
    "def train(model, data_loader, optimizer, scheduler, device):\n",
    "    model.train()\n",
    "    total_loss = 0\n",
    "    with tqdm(total=len(data_loader), desc=\"Training\") as progress_bar:\n",
    "        for batch in data_loader:\n",
    "            optimizer.zero_grad()\n",
    "            input_ids = batch['input_ids'].to(device)\n",
    "            attention_mask = batch['attention_mask'].to(device)\n",
    "            labels = batch['label'].to(device)\n",
    "            outputs = model(input_ids=input_ids, attention_mask=attention_mask)\n",
    "            loss = nn.CrossEntropyLoss()(outputs, labels)\n",
    "            loss.backward()\n",
    "            optimizer.step()\n",
    "            scheduler.step()\n",
    "            total_loss += loss.item()\n",
    "            progress_bar.update(1)\n",
    "    return total_loss / len(data_loader)"
   ]
  },
  {
   "cell_type": "code",
   "execution_count": null,
   "metadata": {
    "execution": {
     "iopub.execute_input": "2024-04-24T10:15:27.690303Z",
     "iopub.status.busy": "2024-04-24T10:15:27.689990Z",
     "iopub.status.idle": "2024-04-24T10:15:27.703806Z",
     "shell.execute_reply": "2024-04-24T10:15:27.702915Z",
     "shell.execute_reply.started": "2024-04-24T10:15:27.690279Z"
    },
    "id": "H3EQus5UACTT",
    "trusted": true
   },
   "outputs": [],
   "source": [
    "def evaluate(model, data_loader, device):\n",
    "    model.eval()\n",
    "    predictions = list()\n",
    "    actual = list()\n",
    "    with torch.no_grad():\n",
    "        for batch in data_loader:\n",
    "            input_ids = batch['input_ids'].to(device)\n",
    "            attention_mask = batch['attention_mask'].to(device)\n",
    "            labels = batch['label'].to(device)\n",
    "            outputs = model(input_ids=input_ids, attention_mask=attention_mask)\n",
    "            _, preds = torch.max(outputs, dim=1)\n",
    "            predictions.extend(preds.cpu().tolist())\n",
    "            actual.extend(labels.cpu().tolist())\n",
    "    return accuracy_score(y_true=actual, y_pred=predictions), classification_report(y_true=actual, y_pred=predictions)"
   ]
  },
  {
   "cell_type": "code",
   "execution_count": null,
   "metadata": {
    "execution": {
     "iopub.execute_input": "2024-04-24T10:15:27.705141Z",
     "iopub.status.busy": "2024-04-24T10:15:27.704869Z",
     "iopub.status.idle": "2024-04-24T10:15:27.714481Z",
     "shell.execute_reply": "2024-04-24T10:15:27.713642Z",
     "shell.execute_reply.started": "2024-04-24T10:15:27.705118Z"
    },
    "id": "08KC3D78ACTT",
    "trusted": true
   },
   "outputs": [],
   "source": [
    "def predict_class(text, model, tokenizer,classes, max_length=128):\n",
    "    model.eval()\n",
    "    encoding = tokenizer(text, return_tensors='pt', max_length=max_length, padding='max_length', truncation=True)\n",
    "    input_ids = encoding['input_ids']\n",
    "    attention_mask = encoding['attention_mask']\n",
    "\n",
    "    with torch.no_grad():\n",
    "        outputs = model(input_ids=input_ids, attention_mask=attention_mask)\n",
    "        _, preds = torch.max(outputs, dim=1)\n",
    "\n",
    "    return classes[preds.item()]"
   ]
  },
  {
   "cell_type": "code",
   "execution_count": null,
   "metadata": {
    "execution": {
     "iopub.execute_input": "2024-04-24T10:15:27.715645Z",
     "iopub.status.busy": "2024-04-24T10:15:27.715396Z",
     "iopub.status.idle": "2024-04-24T10:15:27.724570Z",
     "shell.execute_reply": "2024-04-24T10:15:27.723698Z",
     "shell.execute_reply.started": "2024-04-24T10:15:27.715623Z"
    },
    "id": "DDeBbqUzACTT",
    "trusted": true
   },
   "outputs": [],
   "source": [
    "bert_model_name = 'bert-base-uncased'\n",
    "num_classes = 2\n",
    "max_length =60\n",
    "batch_size = 32\n",
    "num_epochs = 5\n",
    "learning_rate = 2e-5"
   ]
  },
  {
   "cell_type": "code",
   "execution_count": null,
   "metadata": {
    "execution": {
     "iopub.execute_input": "2024-04-24T10:15:27.726415Z",
     "iopub.status.busy": "2024-04-24T10:15:27.725784Z",
     "iopub.status.idle": "2024-04-24T10:15:27.745411Z",
     "shell.execute_reply": "2024-04-24T10:15:27.744416Z",
     "shell.execute_reply.started": "2024-04-24T10:15:27.726383Z"
    },
    "id": "LDZtzAs4ACTT",
    "outputId": "2c37f7bc-6187-417b-9922-29c4019c29ea",
    "trusted": true
   },
   "outputs": [
    {
     "data": {
      "text/plain": [
       "(19726, 4932, 19726, 4932)"
      ]
     },
     "execution_count": 33,
     "metadata": {},
     "output_type": "execute_result"
    }
   ],
   "source": [
    "train_texts, val_texts, train_labels, val_labels = train_test_split(X, y, test_size=0.2, random_state=42)\n",
    "len(train_texts), len(val_texts), len(train_labels), len(val_labels)"
   ]
  },
  {
   "cell_type": "code",
   "execution_count": null,
   "metadata": {
    "colab": {
     "referenced_widgets": [
      "75f542622409491b87c7d9de65824dda",
      "b9772e6483a34fe1b158660309dccdda",
      "1d1296878f31404892836d62e2811a05",
      "766f087d60c440dfbfcf56ed3db344f5"
     ]
    },
    "execution": {
     "iopub.execute_input": "2024-04-24T10:15:27.746837Z",
     "iopub.status.busy": "2024-04-24T10:15:27.746560Z",
     "iopub.status.idle": "2024-04-24T10:15:29.173507Z",
     "shell.execute_reply": "2024-04-24T10:15:29.172459Z",
     "shell.execute_reply.started": "2024-04-24T10:15:27.746813Z"
    },
    "id": "GwK9C-V_ACTU",
    "outputId": "3d966932-1ee4-44eb-c61e-3789d5cc0490",
    "trusted": true
   },
   "outputs": [
    {
     "data": {
      "application/vnd.jupyter.widget-view+json": {
       "model_id": "75f542622409491b87c7d9de65824dda",
       "version_major": 2,
       "version_minor": 0
      },
      "text/plain": [
       "tokenizer_config.json:   0%|          | 0.00/48.0 [00:00<?, ?B/s]"
      ]
     },
     "metadata": {},
     "output_type": "display_data"
    },
    {
     "data": {
      "application/vnd.jupyter.widget-view+json": {
       "model_id": "b9772e6483a34fe1b158660309dccdda",
       "version_major": 2,
       "version_minor": 0
      },
      "text/plain": [
       "vocab.txt:   0%|          | 0.00/232k [00:00<?, ?B/s]"
      ]
     },
     "metadata": {},
     "output_type": "display_data"
    },
    {
     "data": {
      "application/vnd.jupyter.widget-view+json": {
       "model_id": "1d1296878f31404892836d62e2811a05",
       "version_major": 2,
       "version_minor": 0
      },
      "text/plain": [
       "tokenizer.json:   0%|          | 0.00/466k [00:00<?, ?B/s]"
      ]
     },
     "metadata": {},
     "output_type": "display_data"
    },
    {
     "data": {
      "application/vnd.jupyter.widget-view+json": {
       "model_id": "766f087d60c440dfbfcf56ed3db344f5",
       "version_major": 2,
       "version_minor": 0
      },
      "text/plain": [
       "config.json:   0%|          | 0.00/570 [00:00<?, ?B/s]"
      ]
     },
     "metadata": {},
     "output_type": "display_data"
    }
   ],
   "source": [
    "tokenizer = BertTokenizer.from_pretrained(bert_model_name)\n",
    "\n",
    "train_dataset = TextClassificationDataset(train_texts, train_labels, tokenizer=tokenizer, max_length=max_length)\n",
    "val_dataset = TextClassificationDataset(val_texts, val_labels, tokenizer=tokenizer, max_length=max_length)\n",
    "\n",
    "train_dataloader = DataLoader(train_dataset, batch_size=batch_size, shuffle=True)\n",
    "val_dataloader = DataLoader(val_dataset, batch_size=batch_size)"
   ]
  },
  {
   "cell_type": "code",
   "execution_count": null,
   "metadata": {
    "colab": {
     "referenced_widgets": [
      "32241d879df84653a49eb98f18226413"
     ]
    },
    "execution": {
     "iopub.execute_input": "2024-04-24T10:15:29.175016Z",
     "iopub.status.busy": "2024-04-24T10:15:29.174718Z",
     "iopub.status.idle": "2024-04-24T10:15:31.917002Z",
     "shell.execute_reply": "2024-04-24T10:15:31.916082Z",
     "shell.execute_reply.started": "2024-04-24T10:15:29.174991Z"
    },
    "id": "udSUOYdMACTU",
    "outputId": "71ca9795-ff55-4535-ddc4-5495ef701efc",
    "trusted": true
   },
   "outputs": [
    {
     "data": {
      "application/vnd.jupyter.widget-view+json": {
       "model_id": "32241d879df84653a49eb98f18226413",
       "version_major": 2,
       "version_minor": 0
      },
      "text/plain": [
       "model.safetensors:   0%|          | 0.00/440M [00:00<?, ?B/s]"
      ]
     },
     "metadata": {},
     "output_type": "display_data"
    }
   ],
   "source": [
    "device = torch.device(\"cuda\" if torch.cuda.is_available() else \"cpu\")\n",
    "model = BERTClassifier(bert_model_name, num_classes).to(device)"
   ]
  },
  {
   "cell_type": "code",
   "execution_count": null,
   "metadata": {
    "execution": {
     "iopub.execute_input": "2024-04-24T10:15:31.918432Z",
     "iopub.status.busy": "2024-04-24T10:15:31.918135Z",
     "iopub.status.idle": "2024-04-24T10:15:31.924937Z",
     "shell.execute_reply": "2024-04-24T10:15:31.923923Z",
     "shell.execute_reply.started": "2024-04-24T10:15:31.918406Z"
    },
    "id": "aFjSGK94ACTU",
    "trusted": true
   },
   "outputs": [],
   "source": [
    "optimizer = AdamW(model.parameters(), lr=learning_rate)\n",
    "total_steps = len(train_dataloader) * num_epochs\n",
    "scheduler = get_linear_schedule_with_warmup(optimizer, num_warmup_steps=0, num_training_steps=total_steps)"
   ]
  },
  {
   "cell_type": "code",
   "execution_count": null,
   "metadata": {
    "execution": {
     "iopub.execute_input": "2024-04-24T10:15:31.927379Z",
     "iopub.status.busy": "2024-04-24T10:15:31.926532Z",
     "iopub.status.idle": "2024-04-24T10:26:50.545421Z",
     "shell.execute_reply": "2024-04-24T10:26:50.544292Z",
     "shell.execute_reply.started": "2024-04-24T10:15:31.927327Z"
    },
    "id": "L3kBCIs7ACTU",
    "outputId": "5efdbbe7-dc6c-4ff1-f990-e6f9c5c78f2c",
    "trusted": true
   },
   "outputs": [
    {
     "name": "stdout",
     "output_type": "stream",
     "text": [
      "Epoch 1/5\n"
     ]
    },
    {
     "name": "stderr",
     "output_type": "stream",
     "text": [
      "Training: 100%|██████████| 617/617 [02:04<00:00,  4.94it/s]\n"
     ]
    },
    {
     "name": "stdout",
     "output_type": "stream",
     "text": [
      "Validation Accuracy: 0.9670\n",
      "              precision    recall  f1-score   support\n",
      "\n",
      "           0       0.98      0.98      0.98      4119\n",
      "           1       0.90      0.90      0.90       813\n",
      "\n",
      "    accuracy                           0.97      4932\n",
      "   macro avg       0.94      0.94      0.94      4932\n",
      "weighted avg       0.97      0.97      0.97      4932\n",
      "\n",
      "Epoch 2/5\n"
     ]
    },
    {
     "name": "stderr",
     "output_type": "stream",
     "text": [
      "Training: 100%|██████████| 617/617 [02:04<00:00,  4.97it/s]\n"
     ]
    },
    {
     "name": "stdout",
     "output_type": "stream",
     "text": [
      "Validation Accuracy: 0.9590\n",
      "              precision    recall  f1-score   support\n",
      "\n",
      "           0       0.97      0.99      0.98      4119\n",
      "           1       0.92      0.82      0.87       813\n",
      "\n",
      "    accuracy                           0.96      4932\n",
      "   macro avg       0.94      0.90      0.92      4932\n",
      "weighted avg       0.96      0.96      0.96      4932\n",
      "\n",
      "Epoch 3/5\n"
     ]
    },
    {
     "name": "stderr",
     "output_type": "stream",
     "text": [
      "Training: 100%|██████████| 617/617 [02:04<00:00,  4.97it/s]\n"
     ]
    },
    {
     "name": "stdout",
     "output_type": "stream",
     "text": [
      "Validation Accuracy: 0.9625\n",
      "              precision    recall  f1-score   support\n",
      "\n",
      "           0       0.97      0.98      0.98      4119\n",
      "           1       0.90      0.86      0.88       813\n",
      "\n",
      "    accuracy                           0.96      4932\n",
      "   macro avg       0.94      0.92      0.93      4932\n",
      "weighted avg       0.96      0.96      0.96      4932\n",
      "\n",
      "Epoch 4/5\n"
     ]
    },
    {
     "name": "stderr",
     "output_type": "stream",
     "text": [
      "Training: 100%|██████████| 617/617 [02:04<00:00,  4.97it/s]\n"
     ]
    },
    {
     "name": "stdout",
     "output_type": "stream",
     "text": [
      "Validation Accuracy: 0.9625\n",
      "              precision    recall  f1-score   support\n",
      "\n",
      "           0       0.97      0.98      0.98      4119\n",
      "           1       0.90      0.87      0.88       813\n",
      "\n",
      "    accuracy                           0.96      4932\n",
      "   macro avg       0.94      0.92      0.93      4932\n",
      "weighted avg       0.96      0.96      0.96      4932\n",
      "\n",
      "Epoch 5/5\n"
     ]
    },
    {
     "name": "stderr",
     "output_type": "stream",
     "text": [
      "Training: 100%|██████████| 617/617 [02:04<00:00,  4.97it/s]\n"
     ]
    },
    {
     "name": "stdout",
     "output_type": "stream",
     "text": [
      "Validation Accuracy: 0.9629\n",
      "              precision    recall  f1-score   support\n",
      "\n",
      "           0       0.97      0.98      0.98      4119\n",
      "           1       0.91      0.86      0.88       813\n",
      "\n",
      "    accuracy                           0.96      4932\n",
      "   macro avg       0.94      0.92      0.93      4932\n",
      "weighted avg       0.96      0.96      0.96      4932\n",
      "\n"
     ]
    }
   ],
   "source": [
    "for epoch in range(num_epochs):\n",
    "    print(f\"Epoch {epoch+1}/{num_epochs}\")\n",
    "    train(model, train_dataloader, optimizer, scheduler, device)\n",
    "    accuracy, report = evaluate(model, val_dataloader, device)\n",
    "    print(f\"Validation Accuracy: {accuracy:.4f}\")\n",
    "    print(report)"
   ]
  },
  {
   "cell_type": "code",
   "execution_count": null,
   "metadata": {
    "execution": {
     "iopub.execute_input": "2024-04-24T10:26:50.546892Z",
     "iopub.status.busy": "2024-04-24T10:26:50.546600Z",
     "iopub.status.idle": "2024-04-24T10:26:50.554624Z",
     "shell.execute_reply": "2024-04-24T10:26:50.553660Z",
     "shell.execute_reply.started": "2024-04-24T10:26:50.546867Z"
    },
    "id": "CZ8uKbQmACTU",
    "trusted": true
   },
   "outputs": [],
   "source": [
    "def evaluate2(model, data_loader, device):\n",
    "    model.eval()\n",
    "    total_loss = 0\n",
    "    correct = 0\n",
    "    total = 0\n",
    "    with torch.no_grad():\n",
    "        for batch in data_loader:\n",
    "            input_ids = batch['input_ids'].to(device)\n",
    "            attention_mask = batch['attention_mask'].to(device)\n",
    "            labels = batch['label'].to(device)\n",
    "            outputs = model(input_ids=input_ids, attention_mask=attention_mask)\n",
    "            loss = nn.CrossEntropyLoss()(outputs, labels)\n",
    "            total_loss += loss.item()\n",
    "            _, predicted = torch.max(outputs, 1)\n",
    "            total += labels.size(0)\n",
    "            correct += (predicted == labels).sum().item()\n",
    "    accuracy = correct / total\n",
    "    return total_loss / len(data_loader), accuracy\n"
   ]
  },
  {
   "cell_type": "code",
   "execution_count": null,
   "metadata": {
    "execution": {
     "iopub.execute_input": "2024-04-24T10:28:34.367354Z",
     "iopub.status.busy": "2024-04-24T10:28:34.366443Z",
     "iopub.status.idle": "2024-04-24T10:28:34.380325Z",
     "shell.execute_reply": "2024-04-24T10:28:34.379227Z",
     "shell.execute_reply.started": "2024-04-24T10:28:34.367310Z"
    },
    "id": "kyoa4-spACTV",
    "trusted": true
   },
   "outputs": [],
   "source": [
    "def train(model, train_loader, val_loader, optimizer, scheduler, device, num_epochs):\n",
    "    train_losses = []\n",
    "    val_losses = []\n",
    "    train_accuracies = []\n",
    "    val_accuracies = []\n",
    "\n",
    "    for epoch in range(num_epochs):\n",
    "        model.train()\n",
    "        total_loss = 0\n",
    "        correct_train = 0\n",
    "        total_train = 0\n",
    "        for batch in tqdm(train_loader, desc=f\"Epoch {epoch+1}/{num_epochs}\"):\n",
    "            optimizer.zero_grad()\n",
    "            input_ids = batch['input_ids'].to(device)\n",
    "            attention_mask = batch['attention_mask'].to(device)\n",
    "            labels = batch['label'].to(device)\n",
    "            outputs = model(input_ids=input_ids, attention_mask=attention_mask)\n",
    "            loss = nn.CrossEntropyLoss()(outputs, labels)\n",
    "            loss.backward()\n",
    "            optimizer.step()\n",
    "            scheduler.step()\n",
    "            total_loss += loss.item()\n",
    "            _, predicted = torch.max(outputs, 1)\n",
    "            total_train += labels.size(0)\n",
    "            correct_train += (predicted == labels).sum().item()\n",
    "\n",
    "        train_loss = total_loss / len(train_loader)\n",
    "        train_losses.append(train_loss)\n",
    "        train_accuracy = correct_train / total_train\n",
    "        train_accuracies.append(train_accuracy)\n",
    "\n",
    "        val_loss, val_accuracy = evaluate2(model, val_loader, device)\n",
    "        val_losses.append(val_loss)\n",
    "        val_accuracies.append(val_accuracy)\n",
    "\n",
    "        print(f\"Epoch {epoch+1}/{num_epochs}, Train Loss: {train_loss:.4f}, Val Loss: {val_loss:.4f}, Train Acc: {train_accuracy:.4f}, Val Acc: {val_accuracy:.4f}\")\n",
    "\n",
    "    # Plotting\n",
    "    plt.figure(figsize=(12, 6))\n",
    "    plt.subplot(1, 2, 1)\n",
    "    plt.plot(train_losses, label='Train Loss')\n",
    "    plt.plot(val_losses, label='Val Loss')\n",
    "    plt.xlabel('Epoch')\n",
    "    plt.ylabel('Loss')\n",
    "    plt.legend()\n",
    "    plt.title('Loss vs Epoch')\n",
    "\n",
    "    plt.subplot(1, 2, 2)\n",
    "    plt.plot(train_accuracies, label='Train Accuracy')\n",
    "    plt.plot(val_accuracies, label='Val Accuracy')\n",
    "    plt.xlabel('Epoch')\n",
    "    plt.ylabel('Accuracy')\n",
    "    plt.legend()\n",
    "    plt.title('Accuracy vs Epoch')\n",
    "\n",
    "    plt.tight_layout()\n",
    "    plt.show()"
   ]
  },
  {
   "cell_type": "code",
   "execution_count": null,
   "metadata": {
    "execution": {
     "iopub.execute_input": "2024-04-24T10:28:37.518222Z",
     "iopub.status.busy": "2024-04-24T10:28:37.517313Z",
     "iopub.status.idle": "2024-04-24T10:40:00.741195Z",
     "shell.execute_reply": "2024-04-24T10:40:00.740132Z",
     "shell.execute_reply.started": "2024-04-24T10:28:37.518188Z"
    },
    "id": "xbAxNNwAACTY",
    "outputId": "7476320b-9a96-462d-dd65-8e08ecd5793b",
    "trusted": true
   },
   "outputs": [
    {
     "name": "stderr",
     "output_type": "stream",
     "text": [
      "Epoch 1/5: 100%|██████████| 617/617 [02:04<00:00,  4.94it/s]\n"
     ]
    },
    {
     "name": "stdout",
     "output_type": "stream",
     "text": [
      "Epoch 1/5, Train Loss: 0.0182, Val Loss: 0.1475, Train Acc: 0.9945, Val Acc: 0.9629\n"
     ]
    },
    {
     "name": "stderr",
     "output_type": "stream",
     "text": [
      "Epoch 2/5: 100%|██████████| 617/617 [02:04<00:00,  4.94it/s]\n"
     ]
    },
    {
     "name": "stdout",
     "output_type": "stream",
     "text": [
      "Epoch 2/5, Train Loss: 0.0191, Val Loss: 0.1475, Train Acc: 0.9947, Val Acc: 0.9629\n"
     ]
    },
    {
     "name": "stderr",
     "output_type": "stream",
     "text": [
      "Epoch 3/5: 100%|██████████| 617/617 [02:05<00:00,  4.93it/s]\n"
     ]
    },
    {
     "name": "stdout",
     "output_type": "stream",
     "text": [
      "Epoch 3/5, Train Loss: 0.0181, Val Loss: 0.1475, Train Acc: 0.9948, Val Acc: 0.9629\n"
     ]
    },
    {
     "name": "stderr",
     "output_type": "stream",
     "text": [
      "Epoch 4/5: 100%|██████████| 617/617 [02:04<00:00,  4.94it/s]\n"
     ]
    },
    {
     "name": "stdout",
     "output_type": "stream",
     "text": [
      "Epoch 4/5, Train Loss: 0.0193, Val Loss: 0.1475, Train Acc: 0.9942, Val Acc: 0.9629\n"
     ]
    },
    {
     "name": "stderr",
     "output_type": "stream",
     "text": [
      "Epoch 5/5: 100%|██████████| 617/617 [02:04<00:00,  4.94it/s]\n"
     ]
    },
    {
     "name": "stdout",
     "output_type": "stream",
     "text": [
      "Epoch 5/5, Train Loss: 0.0175, Val Loss: 0.1475, Train Acc: 0.9948, Val Acc: 0.9629\n"
     ]
    },
    {
     "data": {
      "image/png": "[encoded data removed]",
      "text/plain": [
       "<Figure size 1200x600 with 2 Axes>"
      ]
     },
     "metadata": {},
     "output_type": "display_data"
    }
   ],
   "source": [
    "train(model, train_dataloader, val_dataloader, optimizer, scheduler, device, 5)"
   ]
  },
  {
   "cell_type": "code",
   "execution_count": null,
   "metadata": {
    "id": "IyQROqrIACTZ"
   },
   "outputs": [],
   "source": []
  },
  {
   "cell_type": "code",
   "execution_count": null,
   "metadata": {
    "execution": {
     "iopub.execute_input": "2024-04-24T10:40:24.068577Z",
     "iopub.status.busy": "2024-04-24T10:40:24.067740Z",
     "iopub.status.idle": "2024-04-24T10:40:24.073234Z",
     "shell.execute_reply": "2024-04-24T10:40:24.072097Z",
     "shell.execute_reply.started": "2024-04-24T10:40:24.068543Z"
    },
    "id": "Je-TwfqEACTZ",
    "trusted": true
   },
   "outputs": [],
   "source": [
    "import seaborn as sns"
   ]
  },
  {
   "cell_type": "code",
   "execution_count": null,
   "metadata": {
    "execution": {
     "iopub.execute_input": "2024-04-24T10:40:26.372443Z",
     "iopub.status.busy": "2024-04-24T10:40:26.371656Z",
     "iopub.status.idle": "2024-04-24T10:40:38.233244Z",
     "shell.execute_reply": "2024-04-24T10:40:38.232284Z",
     "shell.execute_reply.started": "2024-04-24T10:40:26.372408Z"
    },
    "id": "SD35QtC6ACTZ",
    "outputId": "41e76f72-dd71-4ced-f410-b983fa652b13",
    "trusted": true
   },
   "outputs": [
    {
     "name": "stdout",
     "output_type": "stream",
     "text": [
      "Final Classification Report:\n",
      "               precision    recall  f1-score   support\n",
      "\n",
      "           0       0.97      0.98      0.98      4119\n",
      "           1       0.91      0.86      0.88       813\n",
      "\n",
      "    accuracy                           0.96      4932\n",
      "   macro avg       0.94      0.92      0.93      4932\n",
      "weighted avg       0.96      0.96      0.96      4932\n",
      "\n"
     ]
    },
    {
     "data": {
      "image/png": "[encoded data removed]",
      "text/plain": [
       "<Figure size 1000x800 with 2 Axes>"
      ]
     },
     "metadata": {},
     "output_type": "display_data"
    }
   ],
   "source": [
    "def evaluate1(model, data_loader, device):\n",
    "    model.eval()\n",
    "    predictions = list()\n",
    "    actual = list()\n",
    "    with torch.no_grad():\n",
    "        for batch in data_loader:\n",
    "            input_ids = batch['input_ids'].to(device)\n",
    "            attention_mask = batch['attention_mask'].to(device)\n",
    "            labels = batch['label'].to(device)\n",
    "            outputs = model(input_ids=input_ids, attention_mask=attention_mask)\n",
    "            _, preds = torch.max(outputs, dim=1)\n",
    "            predictions.extend(preds.cpu().tolist())\n",
    "            actual.extend(labels.cpu().tolist())\n",
    "\n",
    "    accuracy = accuracy_score(y_true=actual, y_pred=predictions)\n",
    "    classification_rep = classification_report(y_true=actual, y_pred=predictions)\n",
    "    confusion_mat = confusion_matrix(y_true=actual, y_pred=predictions)\n",
    "\n",
    "    # Create a pandas DataFrame for the confusion matrix\n",
    "    cm_df = pd.DataFrame(confusion_mat, index=range(confusion_mat.shape[0]), columns=range(confusion_mat.shape[1]))\n",
    "\n",
    "    return accuracy, classification_rep, cm_df\n",
    "\n",
    "# Usage\n",
    "accuracy, classification_rep, confusion_mat_df = evaluate1(model, val_dataloader, device)\n",
    "\n",
    "# Print final classification report\n",
    "print(\"Final Classification Report:\\n\", classification_rep)\n",
    "\n",
    "# Plot confusion matrix using Seaborn\n",
    "plt.figure(figsize=(10, 8))\n",
    "sns.heatmap(confusion_mat_df, annot=True, cmap='Blues')\n",
    "plt.xlabel('Predicted labels')\n",
    "plt.ylabel('Actual labels')\n",
    "plt.title('Confusion Matrix')\n",
    "plt.show()"
   ]
  },
  {
   "cell_type": "code",
   "execution_count": null,
   "metadata": {
    "execution": {
     "iopub.execute_input": "2024-04-24T10:41:24.372953Z",
     "iopub.status.busy": "2024-04-24T10:41:24.372643Z",
     "iopub.status.idle": "2024-04-24T10:42:10.119258Z",
     "shell.execute_reply": "2024-04-24T10:42:10.118228Z",
     "shell.execute_reply.started": "2024-04-24T10:41:24.372926Z"
    },
    "id": "tuVxmUIEACTZ",
    "outputId": "9d1d2bda-19cc-4e09-8545-a813a718b7e6",
    "trusted": true
   },
   "outputs": [
    {
     "name": "stdout",
     "output_type": "stream",
     "text": [
      "Train Data Classification Report:\n",
      "               precision    recall  f1-score   support\n",
      "\n",
      "           0       1.00      1.00      1.00     16405\n",
      "           1       1.00      0.98      0.99      3321\n",
      "\n",
      "    accuracy                           1.00     19726\n",
      "   macro avg       1.00      0.99      0.99     19726\n",
      "weighted avg       1.00      1.00      1.00     19726\n",
      "\n"
     ]
    },
    {
     "data": {
      "image/png": "[encoded data removed]",
      "text/plain": [
       "<Figure size 1000x800 with 2 Axes>"
      ]
     },
     "metadata": {},
     "output_type": "display_data"
    }
   ],
   "source": [
    "\n",
    "# Usage\n",
    "accuracy, classification_rep, confusion_mat_df = evaluate1(model, train_dataloader, device)\n",
    "\n",
    "# Print final classification report\n",
    "print(\"Train Data Classification Report:\\n\", classification_rep)\n",
    "\n",
    "# Plot confusion matrix using Seaborn\n",
    "plt.figure(figsize=(10, 8))\n",
    "sns.heatmap(confusion_mat_df, annot=True, cmap='Blues')\n",
    "plt.xlabel('Predicted labels')\n",
    "plt.ylabel('Actual labels')\n",
    "plt.title('Confusion Matrix')\n",
    "plt.show()"
   ]
  },
  {
   "cell_type": "code",
   "execution_count": null,
   "metadata": {
    "execution": {
     "iopub.execute_input": "2024-04-24T10:42:13.563982Z",
     "iopub.status.busy": "2024-04-24T10:42:13.563707Z",
     "iopub.status.idle": "2024-04-24T10:42:15.339092Z",
     "shell.execute_reply": "2024-04-24T10:42:15.337911Z",
     "shell.execute_reply.started": "2024-04-24T10:42:13.563959Z"
    },
    "id": "Y2XKoNxBACTZ",
    "outputId": "81e825c4-9d6e-4457-8461-19bb91f66c13",
    "trusted": true
   },
   "outputs": [
    {
     "data": {
      "text/plain": [
       "BERTClassifier(\n",
       "  (bert): BertModel(\n",
       "    (embeddings): BertEmbeddings(\n",
       "      (word_embeddings): Embedding(30522, 768, padding_idx=0)\n",
       "      (position_embeddings): Embedding(512, 768)\n",
       "      (token_type_embeddings): Embedding(2, 768)\n",
       "      (LayerNorm): LayerNorm((768,), eps=1e-12, elementwise_affine=True)\n",
       "      (dropout): Dropout(p=0.1, inplace=False)\n",
       "    )\n",
       "    (encoder): BertEncoder(\n",
       "      (layer): ModuleList(\n",
       "        (0-11): 12 x BertLayer(\n",
       "          (attention): BertAttention(\n",
       "            (self): BertSelfAttention(\n",
       "              (query): Linear(in_features=768, out_features=768, bias=True)\n",
       "              (key): Linear(in_features=768, out_features=768, bias=True)\n",
       "              (value): Linear(in_features=768, out_features=768, bias=True)\n",
       "              (dropout): Dropout(p=0.1, inplace=False)\n",
       "            )\n",
       "            (output): BertSelfOutput(\n",
       "              (dense): Linear(in_features=768, out_features=768, bias=True)\n",
       "              (LayerNorm): LayerNorm((768,), eps=1e-12, elementwise_affine=True)\n",
       "              (dropout): Dropout(p=0.1, inplace=False)\n",
       "            )\n",
       "          )\n",
       "          (intermediate): BertIntermediate(\n",
       "            (dense): Linear(in_features=768, out_features=3072, bias=True)\n",
       "            (intermediate_act_fn): GELUActivation()\n",
       "          )\n",
       "          (output): BertOutput(\n",
       "            (dense): Linear(in_features=3072, out_features=768, bias=True)\n",
       "            (LayerNorm): LayerNorm((768,), eps=1e-12, elementwise_affine=True)\n",
       "            (dropout): Dropout(p=0.1, inplace=False)\n",
       "          )\n",
       "        )\n",
       "      )\n",
       "    )\n",
       "    (pooler): BertPooler(\n",
       "      (dense): Linear(in_features=768, out_features=768, bias=True)\n",
       "      (activation): Tanh()\n",
       "    )\n",
       "  )\n",
       "  (dropout): Dropout(p=0.1, inplace=False)\n",
       "  (fc): Linear(in_features=768, out_features=2, bias=True)\n",
       ")"
      ]
     },
     "execution_count": 49,
     "metadata": {},
     "output_type": "execute_result"
    }
   ],
   "source": [
    "torch.save(model.state_dict(), 'bert_model.pth')\n",
    "\n",
    "# Load the model\n",
    "loaded_model = BERTClassifier(bert_model_name='bert-base-uncased', num_classes=2)\n",
    "loaded_model.load_state_dict(torch.load('bert_model.pth'))\n",
    "loaded_model.eval()"
   ]
  },
  {
   "cell_type": "code",
   "execution_count": null,
   "metadata": {
    "execution": {
     "iopub.execute_input": "2024-04-24T10:42:24.462945Z",
     "iopub.status.busy": "2024-04-24T10:42:24.462553Z",
     "iopub.status.idle": "2024-04-24T10:42:24.498502Z",
     "shell.execute_reply": "2024-04-24T10:42:24.497608Z",
     "shell.execute_reply.started": "2024-04-24T10:42:24.462915Z"
    },
    "id": "xcnboGKnACTa",
    "outputId": "4fb70e93-b7ce-4460-c1a4-d135bd249ab8",
    "trusted": true
   },
   "outputs": [
    {
     "data": {
      "text/plain": [
       "('/kaggle/working/tokenizer_dir/tokenizer_config.json',\n",
       " '/kaggle/working/tokenizer_dir/special_tokens_map.json',\n",
       " '/kaggle/working/tokenizer_dir/vocab.txt',\n",
       " '/kaggle/working/tokenizer_dir/added_tokens.json')"
      ]
     },
     "execution_count": 50,
     "metadata": {},
     "output_type": "execute_result"
    }
   ],
   "source": [
    "tokenizer.save_pretrained(\"tokenizer_dir\")"
   ]
  },
  {
   "cell_type": "code",
   "execution_count": null,
   "metadata": {
    "execution": {
     "iopub.execute_input": "2024-04-24T10:42:27.944133Z",
     "iopub.status.busy": "2024-04-24T10:42:27.943757Z",
     "iopub.status.idle": "2024-04-24T10:42:27.987432Z",
     "shell.execute_reply": "2024-04-24T10:42:27.986630Z",
     "shell.execute_reply.started": "2024-04-24T10:42:27.944103Z"
    },
    "id": "br3fVlzXACTa",
    "trusted": true
   },
   "outputs": [],
   "source": [
    "load_tokenizer = BertTokenizer.from_pretrained(\"tokenizer_dir\")"
   ]
  },
  {
   "cell_type": "code",
   "execution_count": null,
   "metadata": {
    "execution": {
     "iopub.execute_input": "2024-04-24T10:43:51.812947Z",
     "iopub.status.busy": "2024-04-24T10:43:51.812543Z",
     "iopub.status.idle": "2024-04-24T10:43:51.919919Z",
     "shell.execute_reply": "2024-04-24T10:43:51.918849Z",
     "shell.execute_reply.started": "2024-04-24T10:43:51.812917Z"
    },
    "id": "awC1j0QnACTa",
    "outputId": "ef41be53-0d54-49aa-ba50-489cc0405e83",
    "trusted": true
   },
   "outputs": [
    {
     "name": "stdout",
     "output_type": "stream",
     "text": [
      "0\n"
     ]
    }
   ],
   "source": [
    "def predict_single_text(text, tokenizer, model):\n",
    "    encoding = tokenizer(text, return_tensors='pt', max_length=max_length, padding='max_length', truncation=True)\n",
    "    input_ids = encoding['input_ids']\n",
    "    attention_mask = encoding['attention_mask']\n",
    "\n",
    "    with torch.no_grad():\n",
    "        outputs = model(input_ids=input_ids, attention_mask=attention_mask)\n",
    "        _, preds = torch.max(outputs, dim=1)\n",
    "\n",
    "    return preds.item()\n",
    "\n",
    "# Example usage\n",
    "text = \"@MelissaRyan Look at what DC Public Schools are doing for bullying LGBT students now that @m_rhee is...\"\n",
    "prediction = predict_single_text(text, load_tokenizer, loaded_model)\n",
    "print(prediction)"
   ]
  },
  {
   "cell_type": "code",
   "execution_count": null,
   "metadata": {
    "execution": {
     "iopub.execute_input": "2024-04-24T10:49:07.956387Z",
     "iopub.status.busy": "2024-04-24T10:49:07.955395Z",
     "iopub.status.idle": "2024-04-24T10:49:07.961521Z",
     "shell.execute_reply": "2024-04-24T10:49:07.960420Z",
     "shell.execute_reply.started": "2024-04-24T10:49:07.956331Z"
    },
    "id": "hC-JA6i5ACTa",
    "trusted": true
   },
   "outputs": [],
   "source": [
    "accuracy_dict = {'Logistic Regression': 0.95 ,'SVM':0.95,'Naive_bayes':0.89,'RandomForest ':0.94,'Ensemble (RF + SVM + LR)':0.95,'CNN':0.941,'LSTM': 0.945 , 'BERT':0.96}"
   ]
  },
  {
   "cell_type": "code",
   "execution_count": null,
   "metadata": {
    "execution": {
     "iopub.execute_input": "2024-04-24T10:49:31.652029Z",
     "iopub.status.busy": "2024-04-24T10:49:31.651601Z",
     "iopub.status.idle": "2024-04-24T10:49:32.046186Z",
     "shell.execute_reply": "2024-04-24T10:49:32.045089Z",
     "shell.execute_reply.started": "2024-04-24T10:49:31.651995Z"
    },
    "id": "3geUacPHACTa",
    "outputId": "93e8a370-f550-4eb2-fb2b-0e4eb86c3eab",
    "trusted": true
   },
   "outputs": [
    {
     "data": {
      "image/png": "[encoded data removed]",
      "text/plain": [
       "<Figure size 1200x600 with 1 Axes>"
      ]
     },
     "metadata": {},
     "output_type": "display_data"
    }
   ],
   "source": [
    "models = list(accuracy_dict.keys())\n",
    "accuracies = list(accuracy_dict.values())\n",
    "\n",
    "# Plot\n",
    "plt.figure(figsize=(12, 6))\n",
    "plt.bar(models, accuracies, color='skyblue')\n",
    "plt.xlabel('Models')\n",
    "plt.ylabel('Accuracy')\n",
    "plt.title('Accuracy of Different Models')\n",
    "plt.ylim(0.80, 1)  # Set y-axis limit for better visualization\n",
    "plt.xticks(rotation=45)\n",
    "plt.tight_layout()\n",
    "\n",
    "# Show plot\n",
    "plt.show()"
   ]
  }
 ],
 "metadata": {
  "colab": {
   "provenance": []
  },
  "kaggle": {
   "accelerator": "gpu",
   "dataSources": [
    {
     "datasetId": 4867506,
     "sourceId": 8212938,
     "sourceType": "datasetVersion"
    }
   ],
   "dockerImageVersionId": 30703,
   "isGpuEnabled": true,
   "isInternetEnabled": true,
   "language": "python",
   "sourceType": "notebook"
  },
  "kernelspec": {
   "display_name": "Python 3",
   "language": "python",
   "name": "python3"
  },
  "language_info": {
   "codemirror_mode": {
    "name": "ipython",
    "version": 3
   },
   "file_extension": ".py",
   "mimetype": "text/x-python",
   "name": "python",
   "nbconvert_exporter": "python",
   "pygments_lexer": "ipython3",
   "version": "3.11.9"
  }
 },
 "nbformat": 4,
 "nbformat_minor": 0
}
